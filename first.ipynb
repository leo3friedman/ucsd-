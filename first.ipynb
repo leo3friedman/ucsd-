{
 "cells": [
  {
   "cell_type": "markdown",
   "metadata": {
    "pycharm": {
     "name": "#%% md\n"
    }
   },
   "source": [
    "### Making Sense of UCSD CAPE Evaluation data"
   ]
  },
  {
   "cell_type": "markdown",
   "metadata": {
    "pycharm": {
     "name": "#%% md\n"
    }
   },
   "source": [
    "import packages and hide warnings"
   ]
  },
  {
   "cell_type": "code",
   "execution_count": 18,
   "metadata": {
    "pycharm": {
     "name": "#%%\n"
    }
   },
   "outputs": [],
   "source": [
    "import pandas as pd\n",
    "import os\n",
    "pd.options.mode.chained_assignment = None # Why does this warning occur?"
   ]
  },
  {
   "cell_type": "markdown",
   "metadata": {
    "pycharm": {
     "name": "#%% md\n"
    }
   },
   "source": [
    "Convert each html file in '\\html-data' to a dataframe using read_html and concatenate them together. This creates a massive data frame of data on all the courses in UCSD."
   ]
  },
  {
   "cell_type": "code",
   "execution_count": 15,
   "metadata": {
    "pycharm": {
     "name": "#%%\n"
    }
   },
   "outputs": [
    {
     "name": "stdout",
     "output_type": "stream",
     "text": [
      "                     Instructor  \\\n",
      "0              Nomura, Keiko K.   \n",
      "1              Miller, David R.   \n",
      "2    Llewellyn Smith, Stefan G.   \n",
      "3     Bahadori, Mohammad Yousef   \n",
      "4            Lindsey, Stephanie   \n",
      "..                          ...   \n",
      "434        Mah, Silvia Armitano   \n",
      "435        Mah, Silvia Armitano   \n",
      "436      Palmer, Douglas Arthur   \n",
      "437  Bartsch, Dirk-Uwe Guenther   \n",
      "438         Williams, Ebonee P.   \n",
      "\n",
      "                                            Course  Term  Enroll  Evals Made  \\\n",
      "0      MAE 101A - Introductory Fluid Mechanics (A)  WI22     116         106   \n",
      "1      MAE 101A - Introductory Fluid Mechanics (B)  WI22      42          20   \n",
      "2          MAE 101B - Advanced Fluid Mechanics (A)  WI22      75          43   \n",
      "3      MAE 105 - Intro to Mathematical Physics (A)  WI22      41          28   \n",
      "4     MAE 107 - Computational Methods/Engineer (A)  WI22      58          48   \n",
      "..                                             ...   ...     ...         ...   \n",
      "434   ENG 100 - Principles of Team Engineering (A)  FA07      39          34   \n",
      "435  ENG 100A - Principles of Team Engineering (A)  FA07      39          34   \n",
      "436     ENG 100L - Team Engineering Laboratory (B)  FA07       7           4   \n",
      "437     ENG 100L - Team Engineering Laboratory (D)  FA07       3           3   \n",
      "438     ENG 100L - Team Engineering Laboratory (G)  FA07      11           3   \n",
      "\n",
      "    Rcmnd Class Rcmnd Instr  Study Hrs/wk Avg Grade Expected  \\\n",
      "0         92.5%       93.4%          8.14           B (3.07)   \n",
      "1        100.0%       94.1%         10.28          B+ (3.33)   \n",
      "2         90.7%       93.0%          7.24           B (3.21)   \n",
      "3         70.4%       74.1%          8.35          B- (2.81)   \n",
      "4         52.1%       43.8%          9.00          B- (2.83)   \n",
      "..          ...         ...           ...                ...   \n",
      "434       75.0%       96.9%          2.92          B+ (3.62)   \n",
      "435       75.0%       96.9%          2.92          B+ (3.62)   \n",
      "436      100.0%      100.0%          5.50           A (4.00)   \n",
      "437      100.0%      100.0%          5.17          B+ (3.67)   \n",
      "438      100.0%      100.0%          3.50           A (4.00)   \n",
      "\n",
      "    Avg Grade Received  \n",
      "0            B+ (3.37)  \n",
      "1            B- (2.89)  \n",
      "2            B- (2.91)  \n",
      "3            B- (2.73)  \n",
      "4            C+ (2.64)  \n",
      "..                 ...  \n",
      "434          B+ (3.50)  \n",
      "435          B+ (3.50)  \n",
      "436                NaN  \n",
      "437                NaN  \n",
      "438                NaN  \n",
      "\n",
      "[54934 rows x 10 columns]\n"
     ]
    }
   ],
   "source": [
    "all_data = pd.DataFrame()\n",
    "file_names = os.listdir('html-data')\n",
    "for file_name in file_names:\n",
    "    file_path = 'html-data/' + file_name\n",
    "    new_data = pd.read_html(file_path)[0]\n",
    "    all_data = pd.concat([all_data, new_data])\n",
    "print(all_data)"
   ]
  },
  {
   "cell_type": "markdown",
   "metadata": {
    "pycharm": {
     "name": "#%% md\n"
    }
   },
   "source": [
    "We only care about the course name, the number evaluations made, and the Study Hours per Week so lets make a smaller dataframe with just those fields. The course names are also quite long so let's simplify them by removing everything after the dash."
   ]
  },
  {
   "cell_type": "code",
   "execution_count": 19,
   "metadata": {
    "pycharm": {
     "name": "#%%\n"
    }
   },
   "outputs": [
    {
     "name": "stdout",
     "output_type": "stream",
     "text": [
      "       Course  Evals Made  Study Hrs/wk\n",
      "0    MAE 101A         106          8.14\n",
      "1    MAE 101A          20         10.28\n",
      "2    MAE 101B          43          7.24\n",
      "3     MAE 105          28          8.35\n",
      "4     MAE 107          48          9.00\n",
      "..        ...         ...           ...\n",
      "434   ENG 100          34          2.92\n",
      "435  ENG 100A          34          2.92\n",
      "436  ENG 100L           4          5.50\n",
      "437  ENG 100L           3          5.17\n",
      "438  ENG 100L           3          3.50\n",
      "\n",
      "[54934 rows x 3 columns]\n"
     ]
    }
   ],
   "source": [
    "my_data = all_data[['Course', 'Evals Made', 'Study Hrs/wk']]\n",
    "my_data['Course'] = my_data['Course'].str.replace(r'.-.*', '', regex=True)\n",
    "print(my_data)"
   ]
  },
  {
   "cell_type": "markdown",
   "metadata": {
    "pycharm": {
     "name": "#%% md\n"
    }
   },
   "source": [
    "Our dataframe is full of repeated courses from different instructors. We want to average the data of all repeated courses to make the data more readable. Group the data by 'Course' then iterate through each group, averaging the Study Hrs/wk."
   ]
  },
  {
   "cell_type": "code",
   "execution_count": 62,
   "metadata": {
    "pycharm": {
     "name": "#%%\n"
    }
   },
   "outputs": [
    {
     "name": "stdout",
     "output_type": "stream",
     "text": [
      "        Course  Study Hrs/wk\n",
      "0     ANAR 100          6.33\n",
      "1     ANAR 103          9.50\n",
      "2     ANAR 104          6.26\n",
      "3     ANAR 105          3.70\n",
      "4     ANAR 111          4.47\n",
      "...        ...           ...\n",
      "3943   WARR 87          1.34\n",
      "3944  WCWP 100          7.33\n",
      "3945  WCWP 10A          6.28\n",
      "3946  WCWP 10B          6.14\n",
      "3947  WCWP 160          5.00\n",
      "\n",
      "[3948 rows x 2 columns]\n"
     ]
    }
   ],
   "source": [
    "group_by_object = my_data.groupby('Course')\n",
    "averaged_data = pd.DataFrame(columns=['Course', 'Study Hrs/wk'])\n",
    "for name, group in group_by_object:\n",
    "    grouped_data = group_by_object.get_group(name)\n",
    "    total_evals = grouped_data['Evals Made'].sum()\n",
    "    total_study_hrs = (grouped_data['Evals Made'] * grouped_data['Study Hrs/wk']).sum()\n",
    "    avg_study_hrs = round((total_study_hrs / total_evals), 2)\n",
    "    averaged_data.loc[len(averaged_data.index)] = [name, avg_study_hrs]\n",
    "print(averaged_data)"
   ]
  },
  {
   "cell_type": "markdown",
   "metadata": {
    "pycharm": {
     "name": "#%% md\n"
    }
   },
   "source": [
    "Now we need to compare"
   ]
  }
 ],
 "metadata": {
  "kernelspec": {
   "display_name": "Python 3 (ipykernel)",
   "language": "python",
   "name": "python3"
  },
  "language_info": {
   "codemirror_mode": {
    "name": "ipython",
    "version": 3
   },
   "file_extension": ".py",
   "mimetype": "text/x-python",
   "name": "python",
   "nbconvert_exporter": "python",
   "pygments_lexer": "ipython3",
   "version": "3.10.4"
  }
 },
 "nbformat": 4,
 "nbformat_minor": 1
}